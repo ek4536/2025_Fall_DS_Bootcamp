{
 "cells": [
  {
   "cell_type": "code",
   "execution_count": 1,
   "id": "5611fede",
   "metadata": {},
   "outputs": [
    {
     "data": {
      "text/plain": [
       "\"\\n1. Write a program that takes a word as an input and print the number of vowels in the word.\\n2. Iterate through the following list of animals and print each one in all caps.\\n\\n  animals=['tiger', 'elephant', 'monkey', 'zebra', 'panther']\\n\\n3. Write a program that iterates from 1 to 20, printing each number and whether it's odd or even.\\n4. Write a program to check if a string is a palindrome or not.\\n5. Write a function sum_of_integers(a, b) that takes two integers as input from the user and returns their sum.\\n\""
      ]
     },
     "execution_count": 1,
     "metadata": {},
     "output_type": "execute_result"
    }
   ],
   "source": [
    "'''\n",
    "1. Write a program that takes a word as an input and print the number of vowels in the word.\n",
    "2. Iterate through the following list of animals and print each one in all caps.\n",
    "\n",
    "  animals=['tiger', 'elephant', 'monkey', 'zebra', 'panther']\n",
    "\n",
    "3. Write a program that iterates from 1 to 20, printing each number and whether it's odd or even.\n",
    "4. Write a program to check if a string is a palindrome or not.\n",
    "5. Write a function sum_of_integers(a, b) that takes two integers as input from the user and returns their sum.\n",
    "'''"
   ]
  },
  {
   "cell_type": "code",
   "execution_count": 2,
   "id": "20576af3",
   "metadata": {},
   "outputs": [
    {
     "name": "stdout",
     "output_type": "stream",
     "text": [
      "The number of vowels in 'eunjikim' is: 4\n"
     ]
    }
   ],
   "source": [
    "def count_vowels(word):\n",
    "    vowels = 'aeiouAEIOU'\n",
    "    count = 0\n",
    "    for char in word:\n",
    "        if char in vowels:\n",
    "            count += 1\n",
    "    return count\n",
    "\n",
    "word = input(\"Enter a word: \")\n",
    "print(f\"The number of vowels in '{word}' is: {count_vowels(word)}\")"
   ]
  },
  {
   "cell_type": "code",
   "execution_count": null,
   "id": "581d6f17",
   "metadata": {},
   "outputs": [
    {
     "name": "stdout",
     "output_type": "stream",
     "text": [
      "TIGER\n",
      "ELEPHANT\n",
      "MONKEY\n",
      "ZEBRA\n",
      "PANTHER\n"
     ]
    }
   ],
   "source": [
    "animals=['tiger', 'elephant', 'monkey', 'zebra', 'panther']\n",
    "\n",
    "for i in range(len(animals)):\n",
    "    print(animals[i].upper())"
   ]
  },
  {
   "cell_type": "code",
   "execution_count": 4,
   "id": "dfce82a0",
   "metadata": {},
   "outputs": [
    {
     "name": "stdout",
     "output_type": "stream",
     "text": [
      "1 is odd\n",
      "2 is even\n",
      "3 is odd\n",
      "4 is even\n",
      "5 is odd\n",
      "6 is even\n",
      "7 is odd\n",
      "8 is even\n",
      "9 is odd\n",
      "10 is even\n",
      "11 is odd\n",
      "12 is even\n",
      "13 is odd\n",
      "14 is even\n",
      "15 is odd\n",
      "16 is even\n",
      "17 is odd\n",
      "18 is even\n",
      "19 is odd\n",
      "20 is even\n"
     ]
    }
   ],
   "source": [
    "for i in range(1, 21):\n",
    "    if i % 2 == 0:\n",
    "        print(f\"{i} is even\")\n",
    "    else:\n",
    "        print(f\"{i} is odd\")"
   ]
  },
  {
   "cell_type": "code",
   "execution_count": 5,
   "id": "a035aabb",
   "metadata": {},
   "outputs": [
    {
     "name": "stdout",
     "output_type": "stream",
     "text": [
      "'joj' is a palindrome.\n"
     ]
    }
   ],
   "source": [
    "phrase = input(\"Enter a string: \")\n",
    "\n",
    "if phrase == phrase[::-1]:\n",
    "    print(f\"'{phrase}' is a palindrome.\")\n",
    "else:\n",
    "    print(f\"'{phrase}' is not a palindrome.\")"
   ]
  },
  {
   "cell_type": "code",
   "execution_count": 6,
   "id": "5f2fb27e",
   "metadata": {},
   "outputs": [
    {
     "name": "stdout",
     "output_type": "stream",
     "text": [
      "The sum of 30 and 29 is: 59\n"
     ]
    }
   ],
   "source": [
    "def sum_of_integers(a, b):\n",
    "    return a + b\n",
    "\n",
    "a = int(input(\"Enter first integer: \"))\n",
    "b = int(input(\"Enter second integer: \"))\n",
    "\n",
    "print(f\"The sum of {a} and {b} is: {sum_of_integers(a, b)}\")"
   ]
  },
  {
   "cell_type": "code",
   "execution_count": null,
   "id": "3c1a0b71",
   "metadata": {},
   "outputs": [],
   "source": []
  }
 ],
 "metadata": {
  "kernelspec": {
   "display_name": "base",
   "language": "python",
   "name": "python3"
  },
  "language_info": {
   "codemirror_mode": {
    "name": "ipython",
    "version": 3
   },
   "file_extension": ".py",
   "mimetype": "text/x-python",
   "name": "python",
   "nbconvert_exporter": "python",
   "pygments_lexer": "ipython3",
   "version": "3.13.5"
  }
 },
 "nbformat": 4,
 "nbformat_minor": 5
}
